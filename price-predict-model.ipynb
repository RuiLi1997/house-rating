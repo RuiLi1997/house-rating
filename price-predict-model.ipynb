{
 "cells": [
  {
   "cell_type": "code",
   "execution_count": 178,
   "metadata": {},
   "outputs": [],
   "source": [
    "import pandas as pd\n",
    "import numpy as np\n",
    "import seaborn as sns\n",
    "import copy"
   ]
  },
  {
   "cell_type": "code",
   "execution_count": 179,
   "metadata": {},
   "outputs": [],
   "source": [
    "df = pd.read_excel('data/syd_sold_property.xlsx')\n",
    "df_copy =copy.deepcopy(df)"
   ]
  },
  {
   "cell_type": "code",
   "execution_count": 180,
   "metadata": {},
   "outputs": [
    {
     "data": {
      "text/plain": [
       "Index(['soldPrice', 'landArea', 'priceSource', 'soldYear', 'propertyPrice',\n",
       "       'address', 'unitNumber', 'streetNumber', 'suburb', 'postcode', 'lat',\n",
       "       'lng', 'rooms', 'baths', 'parking', 'landSize', 'landUnit',\n",
       "       'propertyType', 'schools'],\n",
       "      dtype='object')"
      ]
     },
     "execution_count": 180,
     "metadata": {},
     "output_type": "execute_result"
    }
   ],
   "source": [
    "df.columns"
   ]
  },
  {
   "cell_type": "code",
   "execution_count": 181,
   "metadata": {},
   "outputs": [
    {
     "data": {
      "text/html": [
       "<div>\n",
       "<style scoped>\n",
       "    .dataframe tbody tr th:only-of-type {\n",
       "        vertical-align: middle;\n",
       "    }\n",
       "\n",
       "    .dataframe tbody tr th {\n",
       "        vertical-align: top;\n",
       "    }\n",
       "\n",
       "    .dataframe thead th {\n",
       "        text-align: right;\n",
       "    }\n",
       "</style>\n",
       "<table border=\"1\" class=\"dataframe\">\n",
       "  <thead>\n",
       "    <tr style=\"text-align: right;\">\n",
       "      <th></th>\n",
       "      <th>soldPrice</th>\n",
       "      <th>landArea</th>\n",
       "      <th>priceSource</th>\n",
       "      <th>soldYear</th>\n",
       "      <th>propertyPrice</th>\n",
       "      <th>address</th>\n",
       "      <th>unitNumber</th>\n",
       "      <th>streetNumber</th>\n",
       "      <th>suburb</th>\n",
       "      <th>postcode</th>\n",
       "      <th>lat</th>\n",
       "      <th>lng</th>\n",
       "      <th>rooms</th>\n",
       "      <th>baths</th>\n",
       "      <th>parking</th>\n",
       "      <th>landSize</th>\n",
       "      <th>landUnit</th>\n",
       "      <th>propertyType</th>\n",
       "      <th>schools</th>\n",
       "    </tr>\n",
       "  </thead>\n",
       "  <tbody>\n",
       "    <tr>\n",
       "      <th>0</th>\n",
       "      <td>850000</td>\n",
       "      <td>103.0</td>\n",
       "      <td>median</td>\n",
       "      <td>2021</td>\n",
       "      <td>650000</td>\n",
       "      <td>1301/88-90 George Street, Hornsby NSW 2077</td>\n",
       "      <td>1301</td>\n",
       "      <td>88-90</td>\n",
       "      <td>Hornsby</td>\n",
       "      <td>2077</td>\n",
       "      <td>-33.701475</td>\n",
       "      <td>151.100010</td>\n",
       "      <td>2</td>\n",
       "      <td>2</td>\n",
       "      <td>1</td>\n",
       "      <td>0</td>\n",
       "      <td>m虏</td>\n",
       "      <td>apartmentUnitFlat</td>\n",
       "      <td>[{'id': '', 'educationLevel': 'combined', 'nam...</td>\n",
       "    </tr>\n",
       "    <tr>\n",
       "      <th>1</th>\n",
       "      <td>2050000</td>\n",
       "      <td>917.0</td>\n",
       "      <td>median</td>\n",
       "      <td>2021</td>\n",
       "      <td>1533000</td>\n",
       "      <td>289 Peats Ferry Road, Hornsby NSW 2077</td>\n",
       "      <td>NaN</td>\n",
       "      <td>289</td>\n",
       "      <td>Hornsby</td>\n",
       "      <td>2077</td>\n",
       "      <td>-33.690778</td>\n",
       "      <td>151.100745</td>\n",
       "      <td>4</td>\n",
       "      <td>2</td>\n",
       "      <td>2</td>\n",
       "      <td>0</td>\n",
       "      <td>m虏</td>\n",
       "      <td>house</td>\n",
       "      <td>[{'id': '26', 'educationLevel': 'secondary', '...</td>\n",
       "    </tr>\n",
       "    <tr>\n",
       "      <th>2</th>\n",
       "      <td>1105000</td>\n",
       "      <td>184.0</td>\n",
       "      <td>median</td>\n",
       "      <td>2021</td>\n",
       "      <td>1252000</td>\n",
       "      <td>11/15 Forbes Street, Hornsby NSW 2077</td>\n",
       "      <td>11</td>\n",
       "      <td>15</td>\n",
       "      <td>Hornsby</td>\n",
       "      <td>2077</td>\n",
       "      <td>-33.706390</td>\n",
       "      <td>151.096585</td>\n",
       "      <td>3</td>\n",
       "      <td>2</td>\n",
       "      <td>1</td>\n",
       "      <td>0</td>\n",
       "      <td>m虏</td>\n",
       "      <td>townhouse</td>\n",
       "      <td>[{'id': '', 'educationLevel': 'secondary', 'na...</td>\n",
       "    </tr>\n",
       "    <tr>\n",
       "      <th>3</th>\n",
       "      <td>679999</td>\n",
       "      <td>24.0</td>\n",
       "      <td>median</td>\n",
       "      <td>2021</td>\n",
       "      <td>650000</td>\n",
       "      <td>15/215-217 Peats Ferry Road, Hornsby NSW 2077</td>\n",
       "      <td>15</td>\n",
       "      <td>215-217</td>\n",
       "      <td>Hornsby</td>\n",
       "      <td>2077</td>\n",
       "      <td>-33.697822</td>\n",
       "      <td>151.097488</td>\n",
       "      <td>2</td>\n",
       "      <td>1</td>\n",
       "      <td>1</td>\n",
       "      <td>0</td>\n",
       "      <td>m虏</td>\n",
       "      <td>apartmentUnitFlat</td>\n",
       "      <td>[{'id': '26', 'educationLevel': 'secondary', '...</td>\n",
       "    </tr>\n",
       "    <tr>\n",
       "      <th>4</th>\n",
       "      <td>686000</td>\n",
       "      <td>103.0</td>\n",
       "      <td>listed</td>\n",
       "      <td>2021</td>\n",
       "      <td>680000</td>\n",
       "      <td>67/121 Pacific Highway, Hornsby NSW 2077</td>\n",
       "      <td>67</td>\n",
       "      <td>121</td>\n",
       "      <td>Hornsby</td>\n",
       "      <td>2077</td>\n",
       "      <td>-33.706767</td>\n",
       "      <td>151.098459</td>\n",
       "      <td>2</td>\n",
       "      <td>2</td>\n",
       "      <td>1</td>\n",
       "      <td>0</td>\n",
       "      <td>m虏</td>\n",
       "      <td>apartmentUnitFlat</td>\n",
       "      <td>[{'id': '', 'educationLevel': 'combined', 'nam...</td>\n",
       "    </tr>\n",
       "  </tbody>\n",
       "</table>\n",
       "</div>"
      ],
      "text/plain": [
       "   soldPrice  landArea priceSource  soldYear  propertyPrice  \\\n",
       "0     850000     103.0      median      2021         650000   \n",
       "1    2050000     917.0      median      2021        1533000   \n",
       "2    1105000     184.0      median      2021        1252000   \n",
       "3     679999      24.0      median      2021         650000   \n",
       "4     686000     103.0      listed      2021         680000   \n",
       "\n",
       "                                         address unitNumber streetNumber  \\\n",
       "0     1301/88-90 George Street, Hornsby NSW 2077       1301        88-90   \n",
       "1         289 Peats Ferry Road, Hornsby NSW 2077        NaN          289   \n",
       "2          11/15 Forbes Street, Hornsby NSW 2077         11           15   \n",
       "3  15/215-217 Peats Ferry Road, Hornsby NSW 2077         15      215-217   \n",
       "4       67/121 Pacific Highway, Hornsby NSW 2077         67          121   \n",
       "\n",
       "    suburb  postcode        lat         lng  rooms  baths  parking  landSize  \\\n",
       "0  Hornsby      2077 -33.701475  151.100010      2      2        1         0   \n",
       "1  Hornsby      2077 -33.690778  151.100745      4      2        2         0   \n",
       "2  Hornsby      2077 -33.706390  151.096585      3      2        1         0   \n",
       "3  Hornsby      2077 -33.697822  151.097488      2      1        1         0   \n",
       "4  Hornsby      2077 -33.706767  151.098459      2      2        1         0   \n",
       "\n",
       "  landUnit       propertyType  \\\n",
       "0       m虏  apartmentUnitFlat   \n",
       "1       m虏              house   \n",
       "2       m虏          townhouse   \n",
       "3       m虏  apartmentUnitFlat   \n",
       "4       m虏  apartmentUnitFlat   \n",
       "\n",
       "                                             schools  \n",
       "0  [{'id': '', 'educationLevel': 'combined', 'nam...  \n",
       "1  [{'id': '26', 'educationLevel': 'secondary', '...  \n",
       "2  [{'id': '', 'educationLevel': 'secondary', 'na...  \n",
       "3  [{'id': '26', 'educationLevel': 'secondary', '...  \n",
       "4  [{'id': '', 'educationLevel': 'combined', 'nam...  "
      ]
     },
     "execution_count": 181,
     "metadata": {},
     "output_type": "execute_result"
    }
   ],
   "source": [
    "df.head()"
   ]
  },
  {
   "cell_type": "code",
   "execution_count": 182,
   "metadata": {},
   "outputs": [
    {
     "data": {
      "text/plain": [
       "13256"
      ]
     },
     "execution_count": 182,
     "metadata": {},
     "output_type": "execute_result"
    }
   ],
   "source": [
    "len(df)"
   ]
  },
  {
   "cell_type": "code",
   "execution_count": 183,
   "metadata": {},
   "outputs": [],
   "source": [
    "df.drop(df.soldYear[df.soldYear<2021].index, inplace=True)"
   ]
  },
  {
   "cell_type": "code",
   "execution_count": 184,
   "metadata": {},
   "outputs": [],
   "source": [
    "df.drop(columns=['soldYear'], inplace=True)"
   ]
  },
  {
   "cell_type": "markdown",
   "metadata": {},
   "source": [
    "# Data Analysis"
   ]
  },
  {
   "cell_type": "markdown",
   "metadata": {},
   "source": [
    "## combine property type"
   ]
  },
  {
   "cell_type": "code",
   "execution_count": 186,
   "metadata": {},
   "outputs": [
    {
     "data": {
      "text/plain": [
       "house                7418\n",
       "apartmentUnitFlat    2363\n",
       "townhouse             372\n",
       "semiDetached          175\n",
       "vacantLand            146\n",
       "villa                 136\n",
       "duplex                 85\n",
       "terrace                60\n",
       "acreageSemiRural       36\n",
       "studio                 28\n",
       "newHouseLand           26\n",
       "blockOfUnits           10\n",
       "newApartments           9\n",
       "rural                   5\n",
       "newLand                 3\n",
       "developmentSite         2\n",
       "Name: propertyType, dtype: int64"
      ]
     },
     "execution_count": 186,
     "metadata": {},
     "output_type": "execute_result"
    }
   ],
   "source": [
    "df.propertyType.value_counts()"
   ]
  },
  {
   "cell_type": "code",
   "execution_count": 187,
   "metadata": {},
   "outputs": [],
   "source": [
    "land = ['vacantLand','newLand','newHouseLand']\n",
    "apartment = ['apartmentUnitFlat', 'newApartments']\n",
    "rural = ['rural', 'acreageSemiRural']"
   ]
  },
  {
   "cell_type": "code",
   "execution_count": 188,
   "metadata": {},
   "outputs": [],
   "source": [
    "df.propertyType.replace(land, 'land', inplace=True)\n",
    "df.propertyType.replace(apartment, 'apartment', inplace=True)\n",
    "df.propertyType.replace(rural, 'rural', inplace=True)"
   ]
  },
  {
   "cell_type": "code",
   "execution_count": 189,
   "metadata": {},
   "outputs": [
    {
     "data": {
      "text/plain": [
       "house              7418\n",
       "apartment          2372\n",
       "townhouse           372\n",
       "semiDetached        175\n",
       "land                175\n",
       "villa               136\n",
       "duplex               85\n",
       "terrace              60\n",
       "rural                41\n",
       "studio               28\n",
       "blockOfUnits         10\n",
       "developmentSite       2\n",
       "Name: propertyType, dtype: int64"
      ]
     },
     "execution_count": 189,
     "metadata": {},
     "output_type": "execute_result"
    }
   ],
   "source": [
    "df.propertyType.value_counts()"
   ]
  },
  {
   "cell_type": "code",
   "execution_count": 190,
   "metadata": {},
   "outputs": [],
   "source": [
    "# remove property type less than 10"
   ]
  },
  {
   "cell_type": "code",
   "execution_count": 191,
   "metadata": {},
   "outputs": [],
   "source": [
    "df.drop(df.propertyType[df.propertyType.isin(['blockOfUnits', 'developmentSite'])].index, inplace=True)"
   ]
  },
  {
   "cell_type": "markdown",
   "metadata": {},
   "source": [
    "## remove prices which are too high"
   ]
  },
  {
   "cell_type": "code",
   "execution_count": 193,
   "metadata": {},
   "outputs": [
    {
     "data": {
      "text/plain": [
       "count    1.086200e+04\n",
       "mean     1.483760e+06\n",
       "std      1.182327e+06\n",
       "min      3.250000e+04\n",
       "25%      8.000000e+05\n",
       "50%      1.171750e+06\n",
       "75%      1.800000e+06\n",
       "max      5.915000e+07\n",
       "Name: soldPrice, dtype: float64"
      ]
     },
     "execution_count": 193,
     "metadata": {},
     "output_type": "execute_result"
    }
   ],
   "source": [
    "df.soldPrice.describe()"
   ]
  },
  {
   "cell_type": "code",
   "execution_count": 194,
   "metadata": {},
   "outputs": [
    {
     "data": {
      "text/plain": [
       "(560000.0, 3398999.999999978)"
      ]
     },
     "execution_count": 194,
     "metadata": {},
     "output_type": "execute_result"
    }
   ],
   "source": [
    "df.soldPrice.quantile(0.05), df.soldPrice.quantile(0.95)"
   ]
  },
  {
   "cell_type": "code",
   "execution_count": 195,
   "metadata": {},
   "outputs": [],
   "source": [
    "df_clean = df.drop(df.soldPrice[df.soldPrice > df.soldPrice.quantile(0.95)].index)\n",
    "df_clean = df.drop(df.soldPrice[df.soldPrice < df.soldPrice.quantile(0.05)].index)"
   ]
  },
  {
   "cell_type": "code",
   "execution_count": 197,
   "metadata": {},
   "outputs": [
    {
     "data": {
      "text/plain": [
       "count    1.032700e+04\n",
       "mean     1.536674e+06\n",
       "std      1.188768e+06\n",
       "min      5.600000e+05\n",
       "25%      8.400000e+05\n",
       "50%      1.220000e+06\n",
       "75%      1.850000e+06\n",
       "max      5.915000e+07\n",
       "Name: soldPrice, dtype: float64"
      ]
     },
     "execution_count": 197,
     "metadata": {},
     "output_type": "execute_result"
    }
   ],
   "source": [
    "df_clean.soldPrice.describe()"
   ]
  },
  {
   "cell_type": "markdown",
   "metadata": {},
   "source": [
    "## Area"
   ]
  },
  {
   "cell_type": "code",
   "execution_count": 199,
   "metadata": {},
   "outputs": [
    {
     "data": {
      "text/plain": [
       "(78.0, 1075.0)"
      ]
     },
     "execution_count": 199,
     "metadata": {},
     "output_type": "execute_result"
    }
   ],
   "source": [
    "df.landArea.quantile(0.05),df.landArea.quantile(0.95)"
   ]
  },
  {
   "cell_type": "code",
   "execution_count": 200,
   "metadata": {},
   "outputs": [],
   "source": [
    "df_clean = df.drop(df.landArea[df.landArea > df.landArea.quantile(0.95)].index)\n",
    "df_clean = df.drop(df.landArea[df.landArea < df.landArea.quantile(0.05)].index)"
   ]
  },
  {
   "cell_type": "code",
   "execution_count": 201,
   "metadata": {},
   "outputs": [
    {
     "data": {
      "text/plain": [
       "10342"
      ]
     },
     "execution_count": 201,
     "metadata": {},
     "output_type": "execute_result"
    }
   ],
   "source": [
    "len(df_clean)"
   ]
  },
  {
   "cell_type": "markdown",
   "metadata": {},
   "source": [
    "## Remove Null"
   ]
  },
  {
   "cell_type": "code",
   "execution_count": 205,
   "metadata": {},
   "outputs": [],
   "source": [
    "df_input = df_clean.drop(columns=['postcode', 'propertyPrice','priceSource', 'address','unitNumber', 'landUnit', 'streetNumber', 'suburb', 'landSize', 'schools'])"
   ]
  },
  {
   "cell_type": "code",
   "execution_count": 212,
   "metadata": {},
   "outputs": [],
   "source": [
    "df_input.dropna(inplace=True)"
   ]
  },
  {
   "cell_type": "code",
   "execution_count": 151,
   "metadata": {},
   "outputs": [],
   "source": [
    "# df_clean.to_excel('data/clean_property.xlsx')"
   ]
  },
  {
   "cell_type": "markdown",
   "metadata": {},
   "source": [
    "# Data pre-process"
   ]
  },
  {
   "cell_type": "code",
   "execution_count": 213,
   "metadata": {},
   "outputs": [
    {
     "data": {
      "text/html": [
       "<div>\n",
       "<style scoped>\n",
       "    .dataframe tbody tr th:only-of-type {\n",
       "        vertical-align: middle;\n",
       "    }\n",
       "\n",
       "    .dataframe tbody tr th {\n",
       "        vertical-align: top;\n",
       "    }\n",
       "\n",
       "    .dataframe thead th {\n",
       "        text-align: right;\n",
       "    }\n",
       "</style>\n",
       "<table border=\"1\" class=\"dataframe\">\n",
       "  <thead>\n",
       "    <tr style=\"text-align: right;\">\n",
       "      <th></th>\n",
       "      <th>soldPrice</th>\n",
       "      <th>landArea</th>\n",
       "      <th>lat</th>\n",
       "      <th>lng</th>\n",
       "      <th>rooms</th>\n",
       "      <th>baths</th>\n",
       "      <th>parking</th>\n",
       "      <th>propertyType</th>\n",
       "    </tr>\n",
       "  </thead>\n",
       "  <tbody>\n",
       "    <tr>\n",
       "      <th>0</th>\n",
       "      <td>850000</td>\n",
       "      <td>103.0</td>\n",
       "      <td>-33.701475</td>\n",
       "      <td>151.100010</td>\n",
       "      <td>2</td>\n",
       "      <td>2</td>\n",
       "      <td>1</td>\n",
       "      <td>apartment</td>\n",
       "    </tr>\n",
       "    <tr>\n",
       "      <th>1</th>\n",
       "      <td>2050000</td>\n",
       "      <td>917.0</td>\n",
       "      <td>-33.690778</td>\n",
       "      <td>151.100745</td>\n",
       "      <td>4</td>\n",
       "      <td>2</td>\n",
       "      <td>2</td>\n",
       "      <td>house</td>\n",
       "    </tr>\n",
       "    <tr>\n",
       "      <th>2</th>\n",
       "      <td>1105000</td>\n",
       "      <td>184.0</td>\n",
       "      <td>-33.706390</td>\n",
       "      <td>151.096585</td>\n",
       "      <td>3</td>\n",
       "      <td>2</td>\n",
       "      <td>1</td>\n",
       "      <td>townhouse</td>\n",
       "    </tr>\n",
       "    <tr>\n",
       "      <th>4</th>\n",
       "      <td>686000</td>\n",
       "      <td>103.0</td>\n",
       "      <td>-33.706767</td>\n",
       "      <td>151.098459</td>\n",
       "      <td>2</td>\n",
       "      <td>2</td>\n",
       "      <td>1</td>\n",
       "      <td>apartment</td>\n",
       "    </tr>\n",
       "    <tr>\n",
       "      <th>5</th>\n",
       "      <td>603000</td>\n",
       "      <td>99.0</td>\n",
       "      <td>-33.704417</td>\n",
       "      <td>151.095720</td>\n",
       "      <td>2</td>\n",
       "      <td>1</td>\n",
       "      <td>1</td>\n",
       "      <td>apartment</td>\n",
       "    </tr>\n",
       "    <tr>\n",
       "      <th>...</th>\n",
       "      <td>...</td>\n",
       "      <td>...</td>\n",
       "      <td>...</td>\n",
       "      <td>...</td>\n",
       "      <td>...</td>\n",
       "      <td>...</td>\n",
       "      <td>...</td>\n",
       "      <td>...</td>\n",
       "    </tr>\n",
       "    <tr>\n",
       "      <th>13235</th>\n",
       "      <td>1444000</td>\n",
       "      <td>467.0</td>\n",
       "      <td>-33.942986</td>\n",
       "      <td>151.115630</td>\n",
       "      <td>3</td>\n",
       "      <td>1</td>\n",
       "      <td>2</td>\n",
       "      <td>house</td>\n",
       "    </tr>\n",
       "    <tr>\n",
       "      <th>13240</th>\n",
       "      <td>1550000</td>\n",
       "      <td>366.0</td>\n",
       "      <td>-33.944188</td>\n",
       "      <td>151.109836</td>\n",
       "      <td>4</td>\n",
       "      <td>2</td>\n",
       "      <td>2</td>\n",
       "      <td>duplex</td>\n",
       "    </tr>\n",
       "    <tr>\n",
       "      <th>13245</th>\n",
       "      <td>1691500</td>\n",
       "      <td>481.0</td>\n",
       "      <td>-33.940322</td>\n",
       "      <td>151.113173</td>\n",
       "      <td>3</td>\n",
       "      <td>1</td>\n",
       "      <td>3</td>\n",
       "      <td>house</td>\n",
       "    </tr>\n",
       "    <tr>\n",
       "      <th>13246</th>\n",
       "      <td>670000</td>\n",
       "      <td>128.0</td>\n",
       "      <td>-33.939009</td>\n",
       "      <td>151.114516</td>\n",
       "      <td>2</td>\n",
       "      <td>2</td>\n",
       "      <td>1</td>\n",
       "      <td>apartment</td>\n",
       "    </tr>\n",
       "    <tr>\n",
       "      <th>13249</th>\n",
       "      <td>1975000</td>\n",
       "      <td>870.9</td>\n",
       "      <td>-33.938456</td>\n",
       "      <td>151.118679</td>\n",
       "      <td>4</td>\n",
       "      <td>3</td>\n",
       "      <td>2</td>\n",
       "      <td>house</td>\n",
       "    </tr>\n",
       "  </tbody>\n",
       "</table>\n",
       "<p>10341 rows × 8 columns</p>\n",
       "</div>"
      ],
      "text/plain": [
       "       soldPrice  landArea        lat         lng  rooms  baths  parking  \\\n",
       "0         850000     103.0 -33.701475  151.100010      2      2        1   \n",
       "1        2050000     917.0 -33.690778  151.100745      4      2        2   \n",
       "2        1105000     184.0 -33.706390  151.096585      3      2        1   \n",
       "4         686000     103.0 -33.706767  151.098459      2      2        1   \n",
       "5         603000      99.0 -33.704417  151.095720      2      1        1   \n",
       "...          ...       ...        ...         ...    ...    ...      ...   \n",
       "13235    1444000     467.0 -33.942986  151.115630      3      1        2   \n",
       "13240    1550000     366.0 -33.944188  151.109836      4      2        2   \n",
       "13245    1691500     481.0 -33.940322  151.113173      3      1        3   \n",
       "13246     670000     128.0 -33.939009  151.114516      2      2        1   \n",
       "13249    1975000     870.9 -33.938456  151.118679      4      3        2   \n",
       "\n",
       "      propertyType  \n",
       "0        apartment  \n",
       "1            house  \n",
       "2        townhouse  \n",
       "4        apartment  \n",
       "5        apartment  \n",
       "...            ...  \n",
       "13235        house  \n",
       "13240       duplex  \n",
       "13245        house  \n",
       "13246    apartment  \n",
       "13249        house  \n",
       "\n",
       "[10341 rows x 8 columns]"
      ]
     },
     "execution_count": 213,
     "metadata": {},
     "output_type": "execute_result"
    }
   ],
   "source": [
    "df_input"
   ]
  },
  {
   "cell_type": "markdown",
   "metadata": {},
   "source": [
    "## dummy property type and suburb"
   ]
  },
  {
   "cell_type": "code",
   "execution_count": 214,
   "metadata": {},
   "outputs": [],
   "source": [
    "cat_list = pd.get_dummies(df_input['propertyType'])"
   ]
  },
  {
   "cell_type": "code",
   "execution_count": 215,
   "metadata": {},
   "outputs": [],
   "source": [
    "df_input=df_input.join(cat_list).drop(columns=['propertyType'])"
   ]
  },
  {
   "cell_type": "code",
   "execution_count": 216,
   "metadata": {},
   "outputs": [
    {
     "data": {
      "text/html": [
       "<div>\n",
       "<style scoped>\n",
       "    .dataframe tbody tr th:only-of-type {\n",
       "        vertical-align: middle;\n",
       "    }\n",
       "\n",
       "    .dataframe tbody tr th {\n",
       "        vertical-align: top;\n",
       "    }\n",
       "\n",
       "    .dataframe thead th {\n",
       "        text-align: right;\n",
       "    }\n",
       "</style>\n",
       "<table border=\"1\" class=\"dataframe\">\n",
       "  <thead>\n",
       "    <tr style=\"text-align: right;\">\n",
       "      <th></th>\n",
       "      <th>soldPrice</th>\n",
       "      <th>landArea</th>\n",
       "      <th>lat</th>\n",
       "      <th>lng</th>\n",
       "      <th>rooms</th>\n",
       "      <th>baths</th>\n",
       "      <th>parking</th>\n",
       "      <th>apartment</th>\n",
       "      <th>duplex</th>\n",
       "      <th>house</th>\n",
       "      <th>land</th>\n",
       "      <th>rural</th>\n",
       "      <th>semiDetached</th>\n",
       "      <th>studio</th>\n",
       "      <th>terrace</th>\n",
       "      <th>townhouse</th>\n",
       "      <th>villa</th>\n",
       "    </tr>\n",
       "  </thead>\n",
       "  <tbody>\n",
       "    <tr>\n",
       "      <th>0</th>\n",
       "      <td>850000</td>\n",
       "      <td>103.0</td>\n",
       "      <td>-33.701475</td>\n",
       "      <td>151.100010</td>\n",
       "      <td>2</td>\n",
       "      <td>2</td>\n",
       "      <td>1</td>\n",
       "      <td>1</td>\n",
       "      <td>0</td>\n",
       "      <td>0</td>\n",
       "      <td>0</td>\n",
       "      <td>0</td>\n",
       "      <td>0</td>\n",
       "      <td>0</td>\n",
       "      <td>0</td>\n",
       "      <td>0</td>\n",
       "      <td>0</td>\n",
       "    </tr>\n",
       "    <tr>\n",
       "      <th>1</th>\n",
       "      <td>2050000</td>\n",
       "      <td>917.0</td>\n",
       "      <td>-33.690778</td>\n",
       "      <td>151.100745</td>\n",
       "      <td>4</td>\n",
       "      <td>2</td>\n",
       "      <td>2</td>\n",
       "      <td>0</td>\n",
       "      <td>0</td>\n",
       "      <td>1</td>\n",
       "      <td>0</td>\n",
       "      <td>0</td>\n",
       "      <td>0</td>\n",
       "      <td>0</td>\n",
       "      <td>0</td>\n",
       "      <td>0</td>\n",
       "      <td>0</td>\n",
       "    </tr>\n",
       "    <tr>\n",
       "      <th>2</th>\n",
       "      <td>1105000</td>\n",
       "      <td>184.0</td>\n",
       "      <td>-33.706390</td>\n",
       "      <td>151.096585</td>\n",
       "      <td>3</td>\n",
       "      <td>2</td>\n",
       "      <td>1</td>\n",
       "      <td>0</td>\n",
       "      <td>0</td>\n",
       "      <td>0</td>\n",
       "      <td>0</td>\n",
       "      <td>0</td>\n",
       "      <td>0</td>\n",
       "      <td>0</td>\n",
       "      <td>0</td>\n",
       "      <td>1</td>\n",
       "      <td>0</td>\n",
       "    </tr>\n",
       "    <tr>\n",
       "      <th>4</th>\n",
       "      <td>686000</td>\n",
       "      <td>103.0</td>\n",
       "      <td>-33.706767</td>\n",
       "      <td>151.098459</td>\n",
       "      <td>2</td>\n",
       "      <td>2</td>\n",
       "      <td>1</td>\n",
       "      <td>1</td>\n",
       "      <td>0</td>\n",
       "      <td>0</td>\n",
       "      <td>0</td>\n",
       "      <td>0</td>\n",
       "      <td>0</td>\n",
       "      <td>0</td>\n",
       "      <td>0</td>\n",
       "      <td>0</td>\n",
       "      <td>0</td>\n",
       "    </tr>\n",
       "    <tr>\n",
       "      <th>5</th>\n",
       "      <td>603000</td>\n",
       "      <td>99.0</td>\n",
       "      <td>-33.704417</td>\n",
       "      <td>151.095720</td>\n",
       "      <td>2</td>\n",
       "      <td>1</td>\n",
       "      <td>1</td>\n",
       "      <td>1</td>\n",
       "      <td>0</td>\n",
       "      <td>0</td>\n",
       "      <td>0</td>\n",
       "      <td>0</td>\n",
       "      <td>0</td>\n",
       "      <td>0</td>\n",
       "      <td>0</td>\n",
       "      <td>0</td>\n",
       "      <td>0</td>\n",
       "    </tr>\n",
       "  </tbody>\n",
       "</table>\n",
       "</div>"
      ],
      "text/plain": [
       "   soldPrice  landArea        lat         lng  rooms  baths  parking  \\\n",
       "0     850000     103.0 -33.701475  151.100010      2      2        1   \n",
       "1    2050000     917.0 -33.690778  151.100745      4      2        2   \n",
       "2    1105000     184.0 -33.706390  151.096585      3      2        1   \n",
       "4     686000     103.0 -33.706767  151.098459      2      2        1   \n",
       "5     603000      99.0 -33.704417  151.095720      2      1        1   \n",
       "\n",
       "   apartment  duplex  house  land  rural  semiDetached  studio  terrace  \\\n",
       "0          1       0      0     0      0             0       0        0   \n",
       "1          0       0      1     0      0             0       0        0   \n",
       "2          0       0      0     0      0             0       0        0   \n",
       "4          1       0      0     0      0             0       0        0   \n",
       "5          1       0      0     0      0             0       0        0   \n",
       "\n",
       "   townhouse  villa  \n",
       "0          0      0  \n",
       "1          0      0  \n",
       "2          1      0  \n",
       "4          0      0  \n",
       "5          0      0  "
      ]
     },
     "execution_count": 216,
     "metadata": {},
     "output_type": "execute_result"
    }
   ],
   "source": [
    "df_input.head()"
   ]
  },
  {
   "cell_type": "markdown",
   "metadata": {},
   "source": [
    "# Pearson correlation coefficient"
   ]
  },
  {
   "cell_type": "code",
   "execution_count": 217,
   "metadata": {},
   "outputs": [
    {
     "data": {
      "text/plain": [
       "Index(['soldPrice', 'landArea', 'lat', 'lng', 'rooms', 'baths', 'parking',\n",
       "       'apartment', 'duplex', 'house', 'land', 'rural', 'semiDetached',\n",
       "       'studio', 'terrace', 'townhouse', 'villa'],\n",
       "      dtype='object')"
      ]
     },
     "execution_count": 217,
     "metadata": {},
     "output_type": "execute_result"
    }
   ],
   "source": [
    "df_input.columns"
   ]
  },
  {
   "cell_type": "code",
   "execution_count": 218,
   "metadata": {},
   "outputs": [],
   "source": [
    "var = [ 'landArea', 'lat', 'lng', 'rooms', 'baths', 'parking']"
   ]
  },
  {
   "cell_type": "code",
   "execution_count": 219,
   "metadata": {},
   "outputs": [],
   "source": [
    "house = df_input.loc[df_input.house[df_input.house==1].index]"
   ]
  },
  {
   "cell_type": "code",
   "execution_count": 220,
   "metadata": {},
   "outputs": [
    {
     "name": "stdout",
     "output_type": "stream",
     "text": [
      "0.00952745672283638\n",
      "0.14244837630375812\n",
      "0.5300347080678828\n",
      "0.2157332284698483\n",
      "0.36797580609773867\n",
      "0.12032336008668437\n"
     ]
    }
   ],
   "source": [
    "res = []\n",
    "for v in var:\n",
    "    print(np.corrcoef(house[v], house.soldPrice)[0][1])"
   ]
  },
  {
   "cell_type": "markdown",
   "metadata": {},
   "source": [
    "# ML"
   ]
  },
  {
   "cell_type": "code",
   "execution_count": 221,
   "metadata": {},
   "outputs": [],
   "source": [
    "X = df_input.drop(['soldPrice'],axis=1)\n",
    "y = df_input['soldPrice']\n",
    "\n",
    "from sklearn.model_selection import train_test_split\n",
    "X_train,X_test,y_train, y_test = train_test_split(X, y, test_size=0.3,random_state = 2021)"
   ]
  },
  {
   "cell_type": "code",
   "execution_count": 222,
   "metadata": {},
   "outputs": [
    {
     "data": {
      "text/html": [
       "<div>\n",
       "<style scoped>\n",
       "    .dataframe tbody tr th:only-of-type {\n",
       "        vertical-align: middle;\n",
       "    }\n",
       "\n",
       "    .dataframe tbody tr th {\n",
       "        vertical-align: top;\n",
       "    }\n",
       "\n",
       "    .dataframe thead th {\n",
       "        text-align: right;\n",
       "    }\n",
       "</style>\n",
       "<table border=\"1\" class=\"dataframe\">\n",
       "  <thead>\n",
       "    <tr style=\"text-align: right;\">\n",
       "      <th></th>\n",
       "      <th>soldPrice</th>\n",
       "      <th>landArea</th>\n",
       "      <th>lat</th>\n",
       "      <th>lng</th>\n",
       "      <th>rooms</th>\n",
       "      <th>baths</th>\n",
       "      <th>parking</th>\n",
       "      <th>apartment</th>\n",
       "      <th>duplex</th>\n",
       "      <th>house</th>\n",
       "      <th>land</th>\n",
       "      <th>rural</th>\n",
       "      <th>semiDetached</th>\n",
       "      <th>studio</th>\n",
       "      <th>terrace</th>\n",
       "      <th>townhouse</th>\n",
       "      <th>villa</th>\n",
       "    </tr>\n",
       "  </thead>\n",
       "  <tbody>\n",
       "    <tr>\n",
       "      <th>0</th>\n",
       "      <td>850000</td>\n",
       "      <td>103.0</td>\n",
       "      <td>-33.701475</td>\n",
       "      <td>151.100010</td>\n",
       "      <td>2</td>\n",
       "      <td>2</td>\n",
       "      <td>1</td>\n",
       "      <td>1</td>\n",
       "      <td>0</td>\n",
       "      <td>0</td>\n",
       "      <td>0</td>\n",
       "      <td>0</td>\n",
       "      <td>0</td>\n",
       "      <td>0</td>\n",
       "      <td>0</td>\n",
       "      <td>0</td>\n",
       "      <td>0</td>\n",
       "    </tr>\n",
       "    <tr>\n",
       "      <th>1</th>\n",
       "      <td>2050000</td>\n",
       "      <td>917.0</td>\n",
       "      <td>-33.690778</td>\n",
       "      <td>151.100745</td>\n",
       "      <td>4</td>\n",
       "      <td>2</td>\n",
       "      <td>2</td>\n",
       "      <td>0</td>\n",
       "      <td>0</td>\n",
       "      <td>1</td>\n",
       "      <td>0</td>\n",
       "      <td>0</td>\n",
       "      <td>0</td>\n",
       "      <td>0</td>\n",
       "      <td>0</td>\n",
       "      <td>0</td>\n",
       "      <td>0</td>\n",
       "    </tr>\n",
       "    <tr>\n",
       "      <th>2</th>\n",
       "      <td>1105000</td>\n",
       "      <td>184.0</td>\n",
       "      <td>-33.706390</td>\n",
       "      <td>151.096585</td>\n",
       "      <td>3</td>\n",
       "      <td>2</td>\n",
       "      <td>1</td>\n",
       "      <td>0</td>\n",
       "      <td>0</td>\n",
       "      <td>0</td>\n",
       "      <td>0</td>\n",
       "      <td>0</td>\n",
       "      <td>0</td>\n",
       "      <td>0</td>\n",
       "      <td>0</td>\n",
       "      <td>1</td>\n",
       "      <td>0</td>\n",
       "    </tr>\n",
       "    <tr>\n",
       "      <th>4</th>\n",
       "      <td>686000</td>\n",
       "      <td>103.0</td>\n",
       "      <td>-33.706767</td>\n",
       "      <td>151.098459</td>\n",
       "      <td>2</td>\n",
       "      <td>2</td>\n",
       "      <td>1</td>\n",
       "      <td>1</td>\n",
       "      <td>0</td>\n",
       "      <td>0</td>\n",
       "      <td>0</td>\n",
       "      <td>0</td>\n",
       "      <td>0</td>\n",
       "      <td>0</td>\n",
       "      <td>0</td>\n",
       "      <td>0</td>\n",
       "      <td>0</td>\n",
       "    </tr>\n",
       "    <tr>\n",
       "      <th>5</th>\n",
       "      <td>603000</td>\n",
       "      <td>99.0</td>\n",
       "      <td>-33.704417</td>\n",
       "      <td>151.095720</td>\n",
       "      <td>2</td>\n",
       "      <td>1</td>\n",
       "      <td>1</td>\n",
       "      <td>1</td>\n",
       "      <td>0</td>\n",
       "      <td>0</td>\n",
       "      <td>0</td>\n",
       "      <td>0</td>\n",
       "      <td>0</td>\n",
       "      <td>0</td>\n",
       "      <td>0</td>\n",
       "      <td>0</td>\n",
       "      <td>0</td>\n",
       "    </tr>\n",
       "    <tr>\n",
       "      <th>...</th>\n",
       "      <td>...</td>\n",
       "      <td>...</td>\n",
       "      <td>...</td>\n",
       "      <td>...</td>\n",
       "      <td>...</td>\n",
       "      <td>...</td>\n",
       "      <td>...</td>\n",
       "      <td>...</td>\n",
       "      <td>...</td>\n",
       "      <td>...</td>\n",
       "      <td>...</td>\n",
       "      <td>...</td>\n",
       "      <td>...</td>\n",
       "      <td>...</td>\n",
       "      <td>...</td>\n",
       "      <td>...</td>\n",
       "      <td>...</td>\n",
       "    </tr>\n",
       "    <tr>\n",
       "      <th>13235</th>\n",
       "      <td>1444000</td>\n",
       "      <td>467.0</td>\n",
       "      <td>-33.942986</td>\n",
       "      <td>151.115630</td>\n",
       "      <td>3</td>\n",
       "      <td>1</td>\n",
       "      <td>2</td>\n",
       "      <td>0</td>\n",
       "      <td>0</td>\n",
       "      <td>1</td>\n",
       "      <td>0</td>\n",
       "      <td>0</td>\n",
       "      <td>0</td>\n",
       "      <td>0</td>\n",
       "      <td>0</td>\n",
       "      <td>0</td>\n",
       "      <td>0</td>\n",
       "    </tr>\n",
       "    <tr>\n",
       "      <th>13240</th>\n",
       "      <td>1550000</td>\n",
       "      <td>366.0</td>\n",
       "      <td>-33.944188</td>\n",
       "      <td>151.109836</td>\n",
       "      <td>4</td>\n",
       "      <td>2</td>\n",
       "      <td>2</td>\n",
       "      <td>0</td>\n",
       "      <td>1</td>\n",
       "      <td>0</td>\n",
       "      <td>0</td>\n",
       "      <td>0</td>\n",
       "      <td>0</td>\n",
       "      <td>0</td>\n",
       "      <td>0</td>\n",
       "      <td>0</td>\n",
       "      <td>0</td>\n",
       "    </tr>\n",
       "    <tr>\n",
       "      <th>13245</th>\n",
       "      <td>1691500</td>\n",
       "      <td>481.0</td>\n",
       "      <td>-33.940322</td>\n",
       "      <td>151.113173</td>\n",
       "      <td>3</td>\n",
       "      <td>1</td>\n",
       "      <td>3</td>\n",
       "      <td>0</td>\n",
       "      <td>0</td>\n",
       "      <td>1</td>\n",
       "      <td>0</td>\n",
       "      <td>0</td>\n",
       "      <td>0</td>\n",
       "      <td>0</td>\n",
       "      <td>0</td>\n",
       "      <td>0</td>\n",
       "      <td>0</td>\n",
       "    </tr>\n",
       "    <tr>\n",
       "      <th>13246</th>\n",
       "      <td>670000</td>\n",
       "      <td>128.0</td>\n",
       "      <td>-33.939009</td>\n",
       "      <td>151.114516</td>\n",
       "      <td>2</td>\n",
       "      <td>2</td>\n",
       "      <td>1</td>\n",
       "      <td>1</td>\n",
       "      <td>0</td>\n",
       "      <td>0</td>\n",
       "      <td>0</td>\n",
       "      <td>0</td>\n",
       "      <td>0</td>\n",
       "      <td>0</td>\n",
       "      <td>0</td>\n",
       "      <td>0</td>\n",
       "      <td>0</td>\n",
       "    </tr>\n",
       "    <tr>\n",
       "      <th>13249</th>\n",
       "      <td>1975000</td>\n",
       "      <td>870.9</td>\n",
       "      <td>-33.938456</td>\n",
       "      <td>151.118679</td>\n",
       "      <td>4</td>\n",
       "      <td>3</td>\n",
       "      <td>2</td>\n",
       "      <td>0</td>\n",
       "      <td>0</td>\n",
       "      <td>1</td>\n",
       "      <td>0</td>\n",
       "      <td>0</td>\n",
       "      <td>0</td>\n",
       "      <td>0</td>\n",
       "      <td>0</td>\n",
       "      <td>0</td>\n",
       "      <td>0</td>\n",
       "    </tr>\n",
       "  </tbody>\n",
       "</table>\n",
       "<p>10341 rows × 17 columns</p>\n",
       "</div>"
      ],
      "text/plain": [
       "       soldPrice  landArea        lat         lng  rooms  baths  parking  \\\n",
       "0         850000     103.0 -33.701475  151.100010      2      2        1   \n",
       "1        2050000     917.0 -33.690778  151.100745      4      2        2   \n",
       "2        1105000     184.0 -33.706390  151.096585      3      2        1   \n",
       "4         686000     103.0 -33.706767  151.098459      2      2        1   \n",
       "5         603000      99.0 -33.704417  151.095720      2      1        1   \n",
       "...          ...       ...        ...         ...    ...    ...      ...   \n",
       "13235    1444000     467.0 -33.942986  151.115630      3      1        2   \n",
       "13240    1550000     366.0 -33.944188  151.109836      4      2        2   \n",
       "13245    1691500     481.0 -33.940322  151.113173      3      1        3   \n",
       "13246     670000     128.0 -33.939009  151.114516      2      2        1   \n",
       "13249    1975000     870.9 -33.938456  151.118679      4      3        2   \n",
       "\n",
       "       apartment  duplex  house  land  rural  semiDetached  studio  terrace  \\\n",
       "0              1       0      0     0      0             0       0        0   \n",
       "1              0       0      1     0      0             0       0        0   \n",
       "2              0       0      0     0      0             0       0        0   \n",
       "4              1       0      0     0      0             0       0        0   \n",
       "5              1       0      0     0      0             0       0        0   \n",
       "...          ...     ...    ...   ...    ...           ...     ...      ...   \n",
       "13235          0       0      1     0      0             0       0        0   \n",
       "13240          0       1      0     0      0             0       0        0   \n",
       "13245          0       0      1     0      0             0       0        0   \n",
       "13246          1       0      0     0      0             0       0        0   \n",
       "13249          0       0      1     0      0             0       0        0   \n",
       "\n",
       "       townhouse  villa  \n",
       "0              0      0  \n",
       "1              0      0  \n",
       "2              1      0  \n",
       "4              0      0  \n",
       "5              0      0  \n",
       "...          ...    ...  \n",
       "13235          0      0  \n",
       "13240          0      0  \n",
       "13245          0      0  \n",
       "13246          0      0  \n",
       "13249          0      0  \n",
       "\n",
       "[10341 rows x 17 columns]"
      ]
     },
     "execution_count": 222,
     "metadata": {},
     "output_type": "execute_result"
    }
   ],
   "source": [
    "df_input"
   ]
  },
  {
   "cell_type": "code",
   "execution_count": 223,
   "metadata": {},
   "outputs": [],
   "source": [
    "from sklearn.linear_model import LinearRegression\n",
    "from sklearn.ensemble import RandomForestRegressor\n",
    "from sklearn.ensemble import BaggingRegressor\n",
    "\n",
    "from sklearn.metrics import mean_squared_error\n",
    "from sklearn.metrics import r2_score"
   ]
  },
  {
   "cell_type": "code",
   "execution_count": 258,
   "metadata": {},
   "outputs": [
    {
     "name": "stdout",
     "output_type": "stream",
     "text": [
      "Training model：LinearRegression\n",
      "LinearRegression score:0.5193993613667508\n",
      "----\n",
      "Training model：RandomForestRegressor\n",
      "RandomForestRegressor score:0.7608097580940671\n",
      "----\n",
      "Training model：BaggingRegressor\n",
      "BaggingRegressor score:0.6985936104130117\n",
      "----\n"
     ]
    }
   ],
   "source": [
    "models=[LinearRegression(),RandomForestRegressor(),BaggingRegressor()]\n",
    "models_str=['LinearRegression','RandomForestRegressor', 'BaggingRegressor']\n",
    "model_d = {}\n",
    "for name,model in zip(models_str,models):\n",
    "    print('Training model：'+name)\n",
    "    model=model \n",
    "    model.fit(X_train,y_train)\n",
    "    y_pred=model.predict(X_test)  \n",
    "    score = r2_score(y_test,y_pred)\n",
    "    print(name +' score:'+str(score))\n",
    "    print('----')\n",
    "    model_d[name] = model"
   ]
  },
  {
   "cell_type": "markdown",
   "metadata": {},
   "source": [
    "## choose RandomForestRegressor() as our model"
   ]
  },
  {
   "cell_type": "code",
   "execution_count": 259,
   "metadata": {},
   "outputs": [],
   "source": [
    "rf = model_d['RandomForestRegressor']"
   ]
  },
  {
   "cell_type": "code",
   "execution_count": 260,
   "metadata": {},
   "outputs": [
    {
     "data": {
      "text/plain": [
       "265059723354.6655"
      ]
     },
     "execution_count": 260,
     "metadata": {},
     "output_type": "execute_result"
    }
   ],
   "source": [
    "y_pred = rf.predict(X_test)\n",
    "mean_squared_error(y_test, y_pred)"
   ]
  },
  {
   "cell_type": "code",
   "execution_count": 266,
   "metadata": {},
   "outputs": [
    {
     "data": {
      "text/plain": [
       "0.7608097580940671"
      ]
     },
     "execution_count": 266,
     "metadata": {},
     "output_type": "execute_result"
    }
   ],
   "source": [
    "r2_score(y_test,y_pred)"
   ]
  },
  {
   "cell_type": "markdown",
   "metadata": {},
   "source": [
    "## save model"
   ]
  },
  {
   "cell_type": "code",
   "execution_count": 267,
   "metadata": {},
   "outputs": [],
   "source": [
    "import pickle\n",
    "with open('model/rf.pickle','wb') as f:\n",
    "     pickle.dump(rf, f)"
   ]
  },
  {
   "cell_type": "code",
   "execution_count": null,
   "metadata": {},
   "outputs": [],
   "source": []
  }
 ],
 "metadata": {
  "kernelspec": {
   "display_name": "Python 3",
   "language": "python",
   "name": "python3"
  },
  "language_info": {
   "codemirror_mode": {
    "name": "ipython",
    "version": 3
   },
   "file_extension": ".py",
   "mimetype": "text/x-python",
   "name": "python",
   "nbconvert_exporter": "python",
   "pygments_lexer": "ipython3",
   "version": "3.7.6"
  }
 },
 "nbformat": 4,
 "nbformat_minor": 4
}
